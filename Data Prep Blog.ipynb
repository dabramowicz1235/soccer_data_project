{
 "cells": [
  {
   "cell_type": "markdown",
   "metadata": {},
   "source": [
    "# Predicting Soccer Matches With Pandas"
   ]
  },
  {
   "cell_type": "markdown",
   "metadata": {},
   "source": [
    "## By: Doug Abramowicz"
   ]
  },
  {
   "cell_type": "markdown",
   "metadata": {},
   "source": [
    "I’m going to be honest – I’m not really sure who this post is for. It’s going to be about how to take a dataset (specifically, one about soccer) and prepare it for analysis (specifically, a logistic regression), and that seems like a relevant enough topic. However, I’m going to be doing this prep through Python, and if you have *zero* experience with coding then it’s probably going to be a tough follow. Alternatively, if you have *too much* experience then it’s going to be boring and repetitive, despite all my attempts (read: successes) at humor. The same can probably be said for relational database systems, and SQL, and maybe also even soccer. The point is, this is for a very small, specific group of people that probably fits just me. Which I suppose is a good thing, because every successful writer has once claimed that you should not write for others, but for yourself. Guess I'm on the brink of greatness."
   ]
  },
  {
   "cell_type": "markdown",
   "metadata": {},
   "source": [
    "Before I continue, I’m going to stress an important point that you may have glossed over. This is about *preparing data for analysis*, not actual data science, which people seem to find more interesting. There will be no talk of correlations or statistical significance or feature selection or any of those other fun concepts. While I do have a simplistic yet functional logistic regression model who’s results are detailed at the end, I won’t talk about what they mean or place any value on them. In the (increasingly likely) event that I remain on the bench for an extended period of time, I hope to develop an exciting model and write a blog delving into its rationale and results. This is not that. This is basically an introduction to leveraging Pandas, a Python library made for exactly this type of analysis, and sadly not a bear. Now let's get this show on the road."
   ]
  },
  {
   "cell_type": "markdown",
   "metadata": {},
   "source": [
    "The first step in data prep is understand what the data will be used for. This project's goal is to predict the winner of soccer matches based on the FIFA ratings of each team’s players. Thus, we need to know the FIFA ratings of the players in a given match and said match’s result. For the unfamiliar, FIFA is a crime syndicate that moonlights as the governing body of international soccer. Every year a video game is released called FIFA (*insert year*) that periodically rates every meaningful player in the world from a scale of 1-99. Coincidentally, there is a Kaggle dataset that contains exactly the information we need (and a whole bunch more that we don’t). This can be found here: https://www.kaggle.com/hugomathien/soccer. I have assumed that the average FIFA rating for the players on a team is an acceptable proxy for a team’s quality; whether or not this assumption is valid is the type of question I’ll answer in the next post, should there be a next post, eventually."
   ]
  },
  {
   "cell_type": "markdown",
   "metadata": {},
   "source": [
    "### Compiling the Relevant Data"
   ]
  },
  {
   "cell_type": "markdown",
   "metadata": {},
   "source": [
    "First thing's first, let's import the packages we'll need to run this code."
   ]
  },
  {
   "cell_type": "code",
   "execution_count": 1,
   "metadata": {},
   "outputs": [],
   "source": [
    "import pandas as pd\n",
    "import sqlite3\n",
    "import numpy as np\n",
    "import matplotlib.pyplot as plt\n",
    "from datetime import timedelta\n",
    "from sklearn.linear_model import LogisticRegression\n",
    "from sklearn.model_selection import train_test_split\n",
    "from sklearn.metrics import confusion_matrix\n",
    "from sklearn.metrics import classification_report"
   ]
  },
  {
   "cell_type": "markdown",
   "metadata": {},
   "source": [
    "Then we can get started by placing the tables from Kaggle into a Pandas *dataframe*. You can think of a dataframe as an excel spreadsheet (a *series* is a dataframe with only one column -- this may or may not come up later) (Hint: it will). The intricacies of this code aren't really important, because it can mostly be copy-and-pasted to connect to any sqlite database. "
   ]
  },
  {
   "cell_type": "code",
   "execution_count": 2,
   "metadata": {},
   "outputs": [],
   "source": [
    "conn = sqlite3.connect(r\"C:\\Users\\dabramowicz\\Downloads\\database.sqlite\")\n",
    "player_attributes = pd.read_sql_query('select * from Player_Attributes;', conn)\n",
    "match = pd.read_sql_query('select * from Match;', conn)"
   ]
  },
  {
   "cell_type": "markdown",
   "metadata": {},
   "source": [
    "And here is what they look like:"
   ]
  },
  {
   "cell_type": "code",
   "execution_count": 3,
   "metadata": {},
   "outputs": [
    {
     "data": {
      "text/html": [
       "<div>\n",
       "<style scoped>\n",
       "    .dataframe tbody tr th:only-of-type {\n",
       "        vertical-align: middle;\n",
       "    }\n",
       "\n",
       "    .dataframe tbody tr th {\n",
       "        vertical-align: top;\n",
       "    }\n",
       "\n",
       "    .dataframe thead th {\n",
       "        text-align: right;\n",
       "    }\n",
       "</style>\n",
       "<table border=\"1\" class=\"dataframe\">\n",
       "  <thead>\n",
       "    <tr style=\"text-align: right;\">\n",
       "      <th></th>\n",
       "      <th>id</th>\n",
       "      <th>player_fifa_api_id</th>\n",
       "      <th>player_api_id</th>\n",
       "      <th>date</th>\n",
       "      <th>overall_rating</th>\n",
       "      <th>potential</th>\n",
       "      <th>preferred_foot</th>\n",
       "      <th>attacking_work_rate</th>\n",
       "      <th>defensive_work_rate</th>\n",
       "      <th>crossing</th>\n",
       "      <th>...</th>\n",
       "      <th>vision</th>\n",
       "      <th>penalties</th>\n",
       "      <th>marking</th>\n",
       "      <th>standing_tackle</th>\n",
       "      <th>sliding_tackle</th>\n",
       "      <th>gk_diving</th>\n",
       "      <th>gk_handling</th>\n",
       "      <th>gk_kicking</th>\n",
       "      <th>gk_positioning</th>\n",
       "      <th>gk_reflexes</th>\n",
       "    </tr>\n",
       "  </thead>\n",
       "  <tbody>\n",
       "    <tr>\n",
       "      <th>0</th>\n",
       "      <td>1</td>\n",
       "      <td>218353</td>\n",
       "      <td>505942</td>\n",
       "      <td>2016-02-18 00:00:00</td>\n",
       "      <td>67.0</td>\n",
       "      <td>71.0</td>\n",
       "      <td>right</td>\n",
       "      <td>medium</td>\n",
       "      <td>medium</td>\n",
       "      <td>49.0</td>\n",
       "      <td>...</td>\n",
       "      <td>54.0</td>\n",
       "      <td>48.0</td>\n",
       "      <td>65.0</td>\n",
       "      <td>69.0</td>\n",
       "      <td>69.0</td>\n",
       "      <td>6.0</td>\n",
       "      <td>11.0</td>\n",
       "      <td>10.0</td>\n",
       "      <td>8.0</td>\n",
       "      <td>8.0</td>\n",
       "    </tr>\n",
       "    <tr>\n",
       "      <th>1</th>\n",
       "      <td>2</td>\n",
       "      <td>218353</td>\n",
       "      <td>505942</td>\n",
       "      <td>2015-11-19 00:00:00</td>\n",
       "      <td>67.0</td>\n",
       "      <td>71.0</td>\n",
       "      <td>right</td>\n",
       "      <td>medium</td>\n",
       "      <td>medium</td>\n",
       "      <td>49.0</td>\n",
       "      <td>...</td>\n",
       "      <td>54.0</td>\n",
       "      <td>48.0</td>\n",
       "      <td>65.0</td>\n",
       "      <td>69.0</td>\n",
       "      <td>69.0</td>\n",
       "      <td>6.0</td>\n",
       "      <td>11.0</td>\n",
       "      <td>10.0</td>\n",
       "      <td>8.0</td>\n",
       "      <td>8.0</td>\n",
       "    </tr>\n",
       "    <tr>\n",
       "      <th>2</th>\n",
       "      <td>3</td>\n",
       "      <td>218353</td>\n",
       "      <td>505942</td>\n",
       "      <td>2015-09-21 00:00:00</td>\n",
       "      <td>62.0</td>\n",
       "      <td>66.0</td>\n",
       "      <td>right</td>\n",
       "      <td>medium</td>\n",
       "      <td>medium</td>\n",
       "      <td>49.0</td>\n",
       "      <td>...</td>\n",
       "      <td>54.0</td>\n",
       "      <td>48.0</td>\n",
       "      <td>65.0</td>\n",
       "      <td>66.0</td>\n",
       "      <td>69.0</td>\n",
       "      <td>6.0</td>\n",
       "      <td>11.0</td>\n",
       "      <td>10.0</td>\n",
       "      <td>8.0</td>\n",
       "      <td>8.0</td>\n",
       "    </tr>\n",
       "    <tr>\n",
       "      <th>3</th>\n",
       "      <td>4</td>\n",
       "      <td>218353</td>\n",
       "      <td>505942</td>\n",
       "      <td>2015-03-20 00:00:00</td>\n",
       "      <td>61.0</td>\n",
       "      <td>65.0</td>\n",
       "      <td>right</td>\n",
       "      <td>medium</td>\n",
       "      <td>medium</td>\n",
       "      <td>48.0</td>\n",
       "      <td>...</td>\n",
       "      <td>53.0</td>\n",
       "      <td>47.0</td>\n",
       "      <td>62.0</td>\n",
       "      <td>63.0</td>\n",
       "      <td>66.0</td>\n",
       "      <td>5.0</td>\n",
       "      <td>10.0</td>\n",
       "      <td>9.0</td>\n",
       "      <td>7.0</td>\n",
       "      <td>7.0</td>\n",
       "    </tr>\n",
       "    <tr>\n",
       "      <th>4</th>\n",
       "      <td>5</td>\n",
       "      <td>218353</td>\n",
       "      <td>505942</td>\n",
       "      <td>2007-02-22 00:00:00</td>\n",
       "      <td>61.0</td>\n",
       "      <td>65.0</td>\n",
       "      <td>right</td>\n",
       "      <td>medium</td>\n",
       "      <td>medium</td>\n",
       "      <td>48.0</td>\n",
       "      <td>...</td>\n",
       "      <td>53.0</td>\n",
       "      <td>47.0</td>\n",
       "      <td>62.0</td>\n",
       "      <td>63.0</td>\n",
       "      <td>66.0</td>\n",
       "      <td>5.0</td>\n",
       "      <td>10.0</td>\n",
       "      <td>9.0</td>\n",
       "      <td>7.0</td>\n",
       "      <td>7.0</td>\n",
       "    </tr>\n",
       "  </tbody>\n",
       "</table>\n",
       "<p>5 rows × 42 columns</p>\n",
       "</div>"
      ],
      "text/plain": [
       "   id  player_fifa_api_id  player_api_id                 date  overall_rating  \\\n",
       "0   1              218353         505942  2016-02-18 00:00:00            67.0   \n",
       "1   2              218353         505942  2015-11-19 00:00:00            67.0   \n",
       "2   3              218353         505942  2015-09-21 00:00:00            62.0   \n",
       "3   4              218353         505942  2015-03-20 00:00:00            61.0   \n",
       "4   5              218353         505942  2007-02-22 00:00:00            61.0   \n",
       "\n",
       "   potential preferred_foot attacking_work_rate defensive_work_rate  crossing  \\\n",
       "0       71.0          right              medium              medium      49.0   \n",
       "1       71.0          right              medium              medium      49.0   \n",
       "2       66.0          right              medium              medium      49.0   \n",
       "3       65.0          right              medium              medium      48.0   \n",
       "4       65.0          right              medium              medium      48.0   \n",
       "\n",
       "      ...       vision  penalties  marking  standing_tackle  sliding_tackle  \\\n",
       "0     ...         54.0       48.0     65.0             69.0            69.0   \n",
       "1     ...         54.0       48.0     65.0             69.0            69.0   \n",
       "2     ...         54.0       48.0     65.0             66.0            69.0   \n",
       "3     ...         53.0       47.0     62.0             63.0            66.0   \n",
       "4     ...         53.0       47.0     62.0             63.0            66.0   \n",
       "\n",
       "   gk_diving  gk_handling  gk_kicking  gk_positioning  gk_reflexes  \n",
       "0        6.0         11.0        10.0             8.0          8.0  \n",
       "1        6.0         11.0        10.0             8.0          8.0  \n",
       "2        6.0         11.0        10.0             8.0          8.0  \n",
       "3        5.0         10.0         9.0             7.0          7.0  \n",
       "4        5.0         10.0         9.0             7.0          7.0  \n",
       "\n",
       "[5 rows x 42 columns]"
      ]
     },
     "execution_count": 3,
     "metadata": {},
     "output_type": "execute_result"
    }
   ],
   "source": [
    "player_attributes.head()"
   ]
  },
  {
   "cell_type": "code",
   "execution_count": 4,
   "metadata": {},
   "outputs": [
    {
     "data": {
      "text/html": [
       "<div>\n",
       "<style scoped>\n",
       "    .dataframe tbody tr th:only-of-type {\n",
       "        vertical-align: middle;\n",
       "    }\n",
       "\n",
       "    .dataframe tbody tr th {\n",
       "        vertical-align: top;\n",
       "    }\n",
       "\n",
       "    .dataframe thead th {\n",
       "        text-align: right;\n",
       "    }\n",
       "</style>\n",
       "<table border=\"1\" class=\"dataframe\">\n",
       "  <thead>\n",
       "    <tr style=\"text-align: right;\">\n",
       "      <th></th>\n",
       "      <th>id</th>\n",
       "      <th>country_id</th>\n",
       "      <th>league_id</th>\n",
       "      <th>season</th>\n",
       "      <th>stage</th>\n",
       "      <th>date</th>\n",
       "      <th>match_api_id</th>\n",
       "      <th>home_team_api_id</th>\n",
       "      <th>away_team_api_id</th>\n",
       "      <th>home_team_goal</th>\n",
       "      <th>...</th>\n",
       "      <th>SJA</th>\n",
       "      <th>VCH</th>\n",
       "      <th>VCD</th>\n",
       "      <th>VCA</th>\n",
       "      <th>GBH</th>\n",
       "      <th>GBD</th>\n",
       "      <th>GBA</th>\n",
       "      <th>BSH</th>\n",
       "      <th>BSD</th>\n",
       "      <th>BSA</th>\n",
       "    </tr>\n",
       "  </thead>\n",
       "  <tbody>\n",
       "    <tr>\n",
       "      <th>0</th>\n",
       "      <td>1</td>\n",
       "      <td>1</td>\n",
       "      <td>1</td>\n",
       "      <td>2008/2009</td>\n",
       "      <td>1</td>\n",
       "      <td>2008-08-17 00:00:00</td>\n",
       "      <td>492473</td>\n",
       "      <td>9987</td>\n",
       "      <td>9993</td>\n",
       "      <td>1</td>\n",
       "      <td>...</td>\n",
       "      <td>4.00</td>\n",
       "      <td>1.65</td>\n",
       "      <td>3.40</td>\n",
       "      <td>4.50</td>\n",
       "      <td>1.78</td>\n",
       "      <td>3.25</td>\n",
       "      <td>4.00</td>\n",
       "      <td>1.73</td>\n",
       "      <td>3.40</td>\n",
       "      <td>4.20</td>\n",
       "    </tr>\n",
       "    <tr>\n",
       "      <th>1</th>\n",
       "      <td>2</td>\n",
       "      <td>1</td>\n",
       "      <td>1</td>\n",
       "      <td>2008/2009</td>\n",
       "      <td>1</td>\n",
       "      <td>2008-08-16 00:00:00</td>\n",
       "      <td>492474</td>\n",
       "      <td>10000</td>\n",
       "      <td>9994</td>\n",
       "      <td>0</td>\n",
       "      <td>...</td>\n",
       "      <td>3.80</td>\n",
       "      <td>2.00</td>\n",
       "      <td>3.25</td>\n",
       "      <td>3.25</td>\n",
       "      <td>1.85</td>\n",
       "      <td>3.25</td>\n",
       "      <td>3.75</td>\n",
       "      <td>1.91</td>\n",
       "      <td>3.25</td>\n",
       "      <td>3.60</td>\n",
       "    </tr>\n",
       "    <tr>\n",
       "      <th>2</th>\n",
       "      <td>3</td>\n",
       "      <td>1</td>\n",
       "      <td>1</td>\n",
       "      <td>2008/2009</td>\n",
       "      <td>1</td>\n",
       "      <td>2008-08-16 00:00:00</td>\n",
       "      <td>492475</td>\n",
       "      <td>9984</td>\n",
       "      <td>8635</td>\n",
       "      <td>0</td>\n",
       "      <td>...</td>\n",
       "      <td>2.50</td>\n",
       "      <td>2.35</td>\n",
       "      <td>3.25</td>\n",
       "      <td>2.65</td>\n",
       "      <td>2.50</td>\n",
       "      <td>3.20</td>\n",
       "      <td>2.50</td>\n",
       "      <td>2.30</td>\n",
       "      <td>3.20</td>\n",
       "      <td>2.75</td>\n",
       "    </tr>\n",
       "    <tr>\n",
       "      <th>3</th>\n",
       "      <td>4</td>\n",
       "      <td>1</td>\n",
       "      <td>1</td>\n",
       "      <td>2008/2009</td>\n",
       "      <td>1</td>\n",
       "      <td>2008-08-17 00:00:00</td>\n",
       "      <td>492476</td>\n",
       "      <td>9991</td>\n",
       "      <td>9998</td>\n",
       "      <td>5</td>\n",
       "      <td>...</td>\n",
       "      <td>7.50</td>\n",
       "      <td>1.45</td>\n",
       "      <td>3.75</td>\n",
       "      <td>6.50</td>\n",
       "      <td>1.50</td>\n",
       "      <td>3.75</td>\n",
       "      <td>5.50</td>\n",
       "      <td>1.44</td>\n",
       "      <td>3.75</td>\n",
       "      <td>6.50</td>\n",
       "    </tr>\n",
       "    <tr>\n",
       "      <th>4</th>\n",
       "      <td>5</td>\n",
       "      <td>1</td>\n",
       "      <td>1</td>\n",
       "      <td>2008/2009</td>\n",
       "      <td>1</td>\n",
       "      <td>2008-08-16 00:00:00</td>\n",
       "      <td>492477</td>\n",
       "      <td>7947</td>\n",
       "      <td>9985</td>\n",
       "      <td>1</td>\n",
       "      <td>...</td>\n",
       "      <td>1.73</td>\n",
       "      <td>4.50</td>\n",
       "      <td>3.40</td>\n",
       "      <td>1.65</td>\n",
       "      <td>4.50</td>\n",
       "      <td>3.50</td>\n",
       "      <td>1.65</td>\n",
       "      <td>4.75</td>\n",
       "      <td>3.30</td>\n",
       "      <td>1.67</td>\n",
       "    </tr>\n",
       "  </tbody>\n",
       "</table>\n",
       "<p>5 rows × 115 columns</p>\n",
       "</div>"
      ],
      "text/plain": [
       "   id  country_id  league_id     season  stage                 date  \\\n",
       "0   1           1          1  2008/2009      1  2008-08-17 00:00:00   \n",
       "1   2           1          1  2008/2009      1  2008-08-16 00:00:00   \n",
       "2   3           1          1  2008/2009      1  2008-08-16 00:00:00   \n",
       "3   4           1          1  2008/2009      1  2008-08-17 00:00:00   \n",
       "4   5           1          1  2008/2009      1  2008-08-16 00:00:00   \n",
       "\n",
       "   match_api_id  home_team_api_id  away_team_api_id  home_team_goal  ...   \\\n",
       "0        492473              9987              9993               1  ...    \n",
       "1        492474             10000              9994               0  ...    \n",
       "2        492475              9984              8635               0  ...    \n",
       "3        492476              9991              9998               5  ...    \n",
       "4        492477              7947              9985               1  ...    \n",
       "\n",
       "    SJA   VCH   VCD   VCA   GBH   GBD   GBA   BSH   BSD   BSA  \n",
       "0  4.00  1.65  3.40  4.50  1.78  3.25  4.00  1.73  3.40  4.20  \n",
       "1  3.80  2.00  3.25  3.25  1.85  3.25  3.75  1.91  3.25  3.60  \n",
       "2  2.50  2.35  3.25  2.65  2.50  3.20  2.50  2.30  3.20  2.75  \n",
       "3  7.50  1.45  3.75  6.50  1.50  3.75  5.50  1.44  3.75  6.50  \n",
       "4  1.73  4.50  3.40  1.65  4.50  3.50  1.65  4.75  3.30  1.67  \n",
       "\n",
       "[5 rows x 115 columns]"
      ]
     },
     "execution_count": 4,
     "metadata": {},
     "output_type": "execute_result"
    }
   ],
   "source": [
    "match.head()"
   ]
  },
  {
   "cell_type": "markdown",
   "metadata": {},
   "source": [
    "As you can see, there's a whole lot going on. The player_attributes table is organized so that each row represents one player, and all of the columns list information about him. The match table is structured so that each row represents one match, and then the columns provide information about that match. This may all seem very basic, but trust me that it will come into play later. But before we get into that, how about another preface: <br> <br>\n",
    "I think the best way to explain how to properly prepare this data is not to just give you the correct answer (insofar as there is such a thing as a “correct” answer), but to give you a little bit of context as to how I got there. In that spirit, I’m going to show you how I first thought to solve this problem. I won’t spend too much time on it, because it is bad, but I will spend a little, because it is important."
   ]
  },
  {
   "cell_type": "markdown",
   "metadata": {},
   "source": [
    "### For Loops: The Bad Way"
   ]
  },
  {
   "cell_type": "markdown",
   "metadata": {},
   "source": [
    "First, I selected only games in the premier league. Then I cut it to only the columns that seemed relevant, like so:"
   ]
  },
  {
   "cell_type": "code",
   "execution_count": null,
   "metadata": {},
   "outputs": [],
   "source": [
    "premier_league_id = 1729\n",
    "premier_league_games = match[(match.league_id == premier_league_id)].reset_index()\n",
    "\n",
    "premier_league_games = premier_league_games[['league_id', 'season', 'date', 'home_team_api_id', \n",
    "                                             'away_team_api_id', 'home_team_goal', 'away_team_goal', \n",
    "                                             'home_player_1', 'home_player_2', 'home_player_3', \n",
    "                                             'home_player_4', 'home_player_5', 'home_player_6', \n",
    "                                             'home_player_7', 'home_player_8', 'home_player_9', \n",
    "                                             'home_player_10', 'home_player_11', 'away_player_1',\n",
    "                                             'away_player_2', 'away_player_3', 'away_player_4', \n",
    "                                             'away_player_5', 'away_player_6', 'away_player_7', \n",
    "                                             'away_player_8', 'away_player_9', 'away_player_10', \n",
    "                                             'away_player_11']].reset_index()"
   ]
  },
  {
   "cell_type": "markdown",
   "metadata": {},
   "source": [
    "Then, I ventured to the dark side. I created my very own Frankenstein’s monster (which I suppose could be called Abramowicz’s monster, but I’d rather not be associated with this mess). This is that creature:"
   ]
  },
  {
   "cell_type": "code",
   "execution_count": null,
   "metadata": {},
   "outputs": [],
   "source": [
    "for match in range(len(premier_league_games)):\n",
    "    for column in range(1,12):\n",
    "        for team in ['home', 'away']:\n",
    "            player_id = premier_league_games.loc[match, '{}'.format(team) + '_player_' + '{}'.format(column)]\n",
    "            ratings = player_attributes.loc[player_attributes['player_api_id'] == player_id].reset_index()\n",
    "            if ratings.empty:\n",
    "                premier_league_games.loc[match, '{}'.format(team) + '_player_' + '{}'.format(column) + '_rating']= np.nan\n",
    "            else:\n",
    "                rating = ratings.iloc[0,5]\n",
    "                premier_league_games.loc[match, '{}'.format(team) + '_player_' + '{}'.format(column) + '_rating'] = rating"
   ]
  },
  {
   "cell_type": "markdown",
   "metadata": {},
   "source": [
    "Much as we may be terrified of it, let's break this bad boy down. This code has three nested For Loops. In total, it basically says for every player in every match, I want to do *x*. That *x* is to, in one table, find the column with his player_id. Then, in a separate table, use that player_id to find the rows with information about him. Assuming that you find any rows, take the first rating that you see and plug it back in to that original table in a freshly-made column."
   ]
  },
  {
   "cell_type": "markdown",
   "metadata": {},
   "source": [
    "I was proud of this. It was complicated and messy and I still understood it, and thus I have proven once again that I am, in fact, smart. Then I showed it to a Senior Manager at CapTech, the one who inspired me to begin this whole project in the first place. She looks over it, thoughtfully, and then casually asks how long it took to run. Not knowing the answer, I respond with the classic “That's a great question. Let me rendezvous with my team and we can circle back.” I later timed it: 520 seconds, or almost 9 minutes, also known as “a really long time to sit there pretending to be working while your computer is occupied.”"
   ]
  },
  {
   "cell_type": "markdown",
   "metadata": {},
   "source": [
    "### Normalizing Databases: The Good Way"
   ]
  },
  {
   "cell_type": "markdown",
   "metadata": {},
   "source": [
    "So, what’s the better way to do this? If you have ever written a SQL query or taken a course on databases (and managed to keep yourself awake), then you already know the answer. The best way is to take each logical entity (match or player, for example) and give it its own table. The tables interact through sharing some columns, or keys. I can then join the tables on these keys and perform operations on these combined tables. This is cleaner and this is faster. *Much* faster. Like, 25 times faster. (An analogous model took 20 seconds, and to be honest I’m surprised the gap isn’t even larger)."
   ]
  },
  {
   "cell_type": "markdown",
   "metadata": {},
   "source": [
    "If you're curious about *why* it goes so much faster and have five minutes to spare, then read this: https://engineering.upside.com/a-beginners-guide-to-optimizing-pandas-code-for-speed-c09ef2c6a4d6. If you only have enough time to finish this paragraph, then do that, because it summarizes the article. The answer lies in something called *vectorization*. Whereas the system of For Loops above forces the program to compute a function for *each individual row*, a vectorized solution allows Pandas to compute a function for *each individual dataframe*. Behind the scenes Pandas is equipped to work on arrays as one single unit, but the system of For Loops forces Pandas to treat each row of data as the foundational unit. The rest of the code will strive to faciliate vectorized solutions."
   ]
  },
  {
   "cell_type": "markdown",
   "metadata": {},
   "source": [
    "So, like I said before, we have two key entities: matches and players. Let us now consider how they interact. Each match contains a bunch of players. And each player plays in a bunch of matches. This is what we in the biz call a many-to-many relationship. And if I know one thing about a relational database system it’s that a many-many relationship calls for a junction table! A junction table is the link between the players and matches tables. This is how I ultimately want my data to look:"
   ]
  },
  {
   "cell_type": "code",
   "execution_count": 30,
   "metadata": {},
   "outputs": [
    {
     "data": {
      "text/html": [
       "<div>\n",
       "<style scoped>\n",
       "    .dataframe tbody tr th:only-of-type {\n",
       "        vertical-align: middle;\n",
       "    }\n",
       "\n",
       "    .dataframe tbody tr th {\n",
       "        vertical-align: top;\n",
       "    }\n",
       "\n",
       "    .dataframe thead th {\n",
       "        text-align: right;\n",
       "    }\n",
       "</style>\n",
       "<table border=\"1\" class=\"dataframe\">\n",
       "  <thead>\n",
       "    <tr style=\"text-align: right;\">\n",
       "      <th></th>\n",
       "      <th>player_api_id</th>\n",
       "      <th>date</th>\n",
       "      <th>overall_rating</th>\n",
       "    </tr>\n",
       "  </thead>\n",
       "  <tbody>\n",
       "    <tr>\n",
       "      <th>0</th>\n",
       "      <td>505942</td>\n",
       "      <td>2016-02-18 00:00:00</td>\n",
       "      <td>67.0</td>\n",
       "    </tr>\n",
       "    <tr>\n",
       "      <th>1</th>\n",
       "      <td>505942</td>\n",
       "      <td>2015-11-19 00:00:00</td>\n",
       "      <td>67.0</td>\n",
       "    </tr>\n",
       "    <tr>\n",
       "      <th>2</th>\n",
       "      <td>505942</td>\n",
       "      <td>2015-09-21 00:00:00</td>\n",
       "      <td>62.0</td>\n",
       "    </tr>\n",
       "    <tr>\n",
       "      <th>3</th>\n",
       "      <td>505942</td>\n",
       "      <td>2015-03-20 00:00:00</td>\n",
       "      <td>61.0</td>\n",
       "    </tr>\n",
       "    <tr>\n",
       "      <th>4</th>\n",
       "      <td>505942</td>\n",
       "      <td>2007-02-22 00:00:00</td>\n",
       "      <td>61.0</td>\n",
       "    </tr>\n",
       "  </tbody>\n",
       "</table>\n",
       "</div>"
      ],
      "text/plain": [
       "   player_api_id                 date  overall_rating\n",
       "0         505942  2016-02-18 00:00:00            67.0\n",
       "1         505942  2015-11-19 00:00:00            67.0\n",
       "2         505942  2015-09-21 00:00:00            62.0\n",
       "3         505942  2015-03-20 00:00:00            61.0\n",
       "4         505942  2007-02-22 00:00:00            61.0"
      ]
     },
     "execution_count": 30,
     "metadata": {},
     "output_type": "execute_result"
    }
   ],
   "source": [
    "players_final.head()"
   ]
  },
  {
   "cell_type": "code",
   "execution_count": 31,
   "metadata": {},
   "outputs": [
    {
     "data": {
      "text/html": [
       "<div>\n",
       "<style scoped>\n",
       "    .dataframe tbody tr th:only-of-type {\n",
       "        vertical-align: middle;\n",
       "    }\n",
       "\n",
       "    .dataframe tbody tr th {\n",
       "        vertical-align: top;\n",
       "    }\n",
       "\n",
       "    .dataframe thead th {\n",
       "        text-align: right;\n",
       "    }\n",
       "</style>\n",
       "<table border=\"1\" class=\"dataframe\">\n",
       "  <thead>\n",
       "    <tr style=\"text-align: right;\">\n",
       "      <th></th>\n",
       "      <th>match_id</th>\n",
       "      <th>date</th>\n",
       "      <th>home_win</th>\n",
       "    </tr>\n",
       "  </thead>\n",
       "  <tbody>\n",
       "    <tr>\n",
       "      <th>0</th>\n",
       "      <td>0</td>\n",
       "      <td>2008-08-17 00:00:00</td>\n",
       "      <td>0</td>\n",
       "    </tr>\n",
       "    <tr>\n",
       "      <th>1</th>\n",
       "      <td>1</td>\n",
       "      <td>2008-08-16 00:00:00</td>\n",
       "      <td>1</td>\n",
       "    </tr>\n",
       "    <tr>\n",
       "      <th>2</th>\n",
       "      <td>2</td>\n",
       "      <td>2008-08-16 00:00:00</td>\n",
       "      <td>0</td>\n",
       "    </tr>\n",
       "    <tr>\n",
       "      <th>3</th>\n",
       "      <td>3</td>\n",
       "      <td>2008-08-16 00:00:00</td>\n",
       "      <td>1</td>\n",
       "    </tr>\n",
       "    <tr>\n",
       "      <th>4</th>\n",
       "      <td>4</td>\n",
       "      <td>2008-08-17 00:00:00</td>\n",
       "      <td>1</td>\n",
       "    </tr>\n",
       "  </tbody>\n",
       "</table>\n",
       "</div>"
      ],
      "text/plain": [
       "   match_id                 date  home_win\n",
       "0         0  2008-08-17 00:00:00         0\n",
       "1         1  2008-08-16 00:00:00         1\n",
       "2         2  2008-08-16 00:00:00         0\n",
       "3         3  2008-08-16 00:00:00         1\n",
       "4         4  2008-08-17 00:00:00         1"
      ]
     },
     "execution_count": 31,
     "metadata": {},
     "output_type": "execute_result"
    }
   ],
   "source": [
    "matches_final.head()"
   ]
  },
  {
   "cell_type": "code",
   "execution_count": 32,
   "metadata": {},
   "outputs": [
    {
     "data": {
      "text/html": [
       "<div>\n",
       "<style scoped>\n",
       "    .dataframe tbody tr th:only-of-type {\n",
       "        vertical-align: middle;\n",
       "    }\n",
       "\n",
       "    .dataframe tbody tr th {\n",
       "        vertical-align: top;\n",
       "    }\n",
       "\n",
       "    .dataframe thead th {\n",
       "        text-align: right;\n",
       "    }\n",
       "</style>\n",
       "<table border=\"1\" class=\"dataframe\">\n",
       "  <thead>\n",
       "    <tr style=\"text-align: right;\">\n",
       "      <th></th>\n",
       "      <th>match_id</th>\n",
       "      <th>team</th>\n",
       "      <th>player_api_id</th>\n",
       "    </tr>\n",
       "  </thead>\n",
       "  <tbody>\n",
       "    <tr>\n",
       "      <th>0</th>\n",
       "      <td>0</td>\n",
       "      <td>home</td>\n",
       "      <td>30726.0</td>\n",
       "    </tr>\n",
       "    <tr>\n",
       "      <th>1</th>\n",
       "      <td>0</td>\n",
       "      <td>home</td>\n",
       "      <td>30362.0</td>\n",
       "    </tr>\n",
       "    <tr>\n",
       "      <th>2</th>\n",
       "      <td>0</td>\n",
       "      <td>home</td>\n",
       "      <td>30620.0</td>\n",
       "    </tr>\n",
       "    <tr>\n",
       "      <th>3</th>\n",
       "      <td>0</td>\n",
       "      <td>home</td>\n",
       "      <td>30865.0</td>\n",
       "    </tr>\n",
       "    <tr>\n",
       "      <th>4</th>\n",
       "      <td>0</td>\n",
       "      <td>home</td>\n",
       "      <td>32569.0</td>\n",
       "    </tr>\n",
       "  </tbody>\n",
       "</table>\n",
       "</div>"
      ],
      "text/plain": [
       "   match_id  team  player_api_id\n",
       "0         0  home        30726.0\n",
       "1         0  home        30362.0\n",
       "2         0  home        30620.0\n",
       "3         0  home        30865.0\n",
       "4         0  home        32569.0"
      ]
     },
     "execution_count": 32,
     "metadata": {},
     "output_type": "execute_result"
    }
   ],
   "source": [
    "junction_final.head()"
   ]
  },
  {
   "cell_type": "markdown",
   "metadata": {},
   "source": [
    "And here, *finally*, after all the preamble and the bad jokes and the just so many words, we have reached a technical description of problem-solving in pandas. I begin by creating the baseline for the three tables I will need like so:"
   ]
  },
  {
   "cell_type": "code",
   "execution_count": 5,
   "metadata": {},
   "outputs": [],
   "source": [
    "#filter only on premier league games and only use relevant columns\n",
    "premier_league_id = 1729\n",
    "match = match[(match.league_id == premier_league_id)].reset_index()\n",
    "\n",
    "#create the framework for the 3 normalized tables\n",
    "matches = match.loc[:,['date', 'home_team_goal', 'away_team_goal']]\n",
    "players = player_attributes.loc[:,['player_api_id', 'date', 'overall_rating']]\n",
    "junction = match.loc[:,['home_player_1', 'home_player_2', 'home_player_3', 'home_player_4', \n",
    "                        'home_player_5', 'home_player_6', 'home_player_7', 'home_player_8', \n",
    "                        'home_player_9', 'home_player_10', 'home_player_11', 'away_player_1', \n",
    "                        'away_player_2', 'away_player_3', 'away_player_4', 'away_player_5', \n",
    "                        'away_player_6', 'away_player_7', 'away_player_8', 'away_player_9', \n",
    "                        'away_player_10', 'away_player_11']]"
   ]
  },
  {
   "cell_type": "code",
   "execution_count": 6,
   "metadata": {},
   "outputs": [
    {
     "data": {
      "text/html": [
       "<div>\n",
       "<style scoped>\n",
       "    .dataframe tbody tr th:only-of-type {\n",
       "        vertical-align: middle;\n",
       "    }\n",
       "\n",
       "    .dataframe tbody tr th {\n",
       "        vertical-align: top;\n",
       "    }\n",
       "\n",
       "    .dataframe thead th {\n",
       "        text-align: right;\n",
       "    }\n",
       "</style>\n",
       "<table border=\"1\" class=\"dataframe\">\n",
       "  <thead>\n",
       "    <tr style=\"text-align: right;\">\n",
       "      <th></th>\n",
       "      <th>player_api_id</th>\n",
       "      <th>date</th>\n",
       "      <th>overall_rating</th>\n",
       "    </tr>\n",
       "  </thead>\n",
       "  <tbody>\n",
       "    <tr>\n",
       "      <th>0</th>\n",
       "      <td>505942</td>\n",
       "      <td>2016-02-18 00:00:00</td>\n",
       "      <td>67.0</td>\n",
       "    </tr>\n",
       "    <tr>\n",
       "      <th>1</th>\n",
       "      <td>505942</td>\n",
       "      <td>2015-11-19 00:00:00</td>\n",
       "      <td>67.0</td>\n",
       "    </tr>\n",
       "    <tr>\n",
       "      <th>2</th>\n",
       "      <td>505942</td>\n",
       "      <td>2015-09-21 00:00:00</td>\n",
       "      <td>62.0</td>\n",
       "    </tr>\n",
       "    <tr>\n",
       "      <th>3</th>\n",
       "      <td>505942</td>\n",
       "      <td>2015-03-20 00:00:00</td>\n",
       "      <td>61.0</td>\n",
       "    </tr>\n",
       "    <tr>\n",
       "      <th>4</th>\n",
       "      <td>505942</td>\n",
       "      <td>2007-02-22 00:00:00</td>\n",
       "      <td>61.0</td>\n",
       "    </tr>\n",
       "  </tbody>\n",
       "</table>\n",
       "</div>"
      ],
      "text/plain": [
       "   player_api_id                 date  overall_rating\n",
       "0         505942  2016-02-18 00:00:00            67.0\n",
       "1         505942  2015-11-19 00:00:00            67.0\n",
       "2         505942  2015-09-21 00:00:00            62.0\n",
       "3         505942  2015-03-20 00:00:00            61.0\n",
       "4         505942  2007-02-22 00:00:00            61.0"
      ]
     },
     "execution_count": 6,
     "metadata": {},
     "output_type": "execute_result"
    }
   ],
   "source": [
    "players_final = players.head()\n",
    "players.head()"
   ]
  },
  {
   "cell_type": "code",
   "execution_count": 7,
   "metadata": {},
   "outputs": [
    {
     "data": {
      "text/html": [
       "<div>\n",
       "<style scoped>\n",
       "    .dataframe tbody tr th:only-of-type {\n",
       "        vertical-align: middle;\n",
       "    }\n",
       "\n",
       "    .dataframe tbody tr th {\n",
       "        vertical-align: top;\n",
       "    }\n",
       "\n",
       "    .dataframe thead th {\n",
       "        text-align: right;\n",
       "    }\n",
       "</style>\n",
       "<table border=\"1\" class=\"dataframe\">\n",
       "  <thead>\n",
       "    <tr style=\"text-align: right;\">\n",
       "      <th></th>\n",
       "      <th>date</th>\n",
       "      <th>home_team_goal</th>\n",
       "      <th>away_team_goal</th>\n",
       "    </tr>\n",
       "  </thead>\n",
       "  <tbody>\n",
       "    <tr>\n",
       "      <th>0</th>\n",
       "      <td>2008-08-17 00:00:00</td>\n",
       "      <td>1</td>\n",
       "      <td>1</td>\n",
       "    </tr>\n",
       "    <tr>\n",
       "      <th>1</th>\n",
       "      <td>2008-08-16 00:00:00</td>\n",
       "      <td>1</td>\n",
       "      <td>0</td>\n",
       "    </tr>\n",
       "    <tr>\n",
       "      <th>2</th>\n",
       "      <td>2008-08-16 00:00:00</td>\n",
       "      <td>0</td>\n",
       "      <td>1</td>\n",
       "    </tr>\n",
       "    <tr>\n",
       "      <th>3</th>\n",
       "      <td>2008-08-16 00:00:00</td>\n",
       "      <td>2</td>\n",
       "      <td>1</td>\n",
       "    </tr>\n",
       "    <tr>\n",
       "      <th>4</th>\n",
       "      <td>2008-08-17 00:00:00</td>\n",
       "      <td>4</td>\n",
       "      <td>2</td>\n",
       "    </tr>\n",
       "  </tbody>\n",
       "</table>\n",
       "</div>"
      ],
      "text/plain": [
       "                  date  home_team_goal  away_team_goal\n",
       "0  2008-08-17 00:00:00               1               1\n",
       "1  2008-08-16 00:00:00               1               0\n",
       "2  2008-08-16 00:00:00               0               1\n",
       "3  2008-08-16 00:00:00               2               1\n",
       "4  2008-08-17 00:00:00               4               2"
      ]
     },
     "execution_count": 7,
     "metadata": {},
     "output_type": "execute_result"
    }
   ],
   "source": [
    "matches.head()"
   ]
  },
  {
   "cell_type": "code",
   "execution_count": 8,
   "metadata": {},
   "outputs": [
    {
     "data": {
      "text/html": [
       "<div>\n",
       "<style scoped>\n",
       "    .dataframe tbody tr th:only-of-type {\n",
       "        vertical-align: middle;\n",
       "    }\n",
       "\n",
       "    .dataframe tbody tr th {\n",
       "        vertical-align: top;\n",
       "    }\n",
       "\n",
       "    .dataframe thead th {\n",
       "        text-align: right;\n",
       "    }\n",
       "</style>\n",
       "<table border=\"1\" class=\"dataframe\">\n",
       "  <thead>\n",
       "    <tr style=\"text-align: right;\">\n",
       "      <th></th>\n",
       "      <th>home_player_1</th>\n",
       "      <th>home_player_2</th>\n",
       "      <th>home_player_3</th>\n",
       "      <th>home_player_4</th>\n",
       "      <th>home_player_5</th>\n",
       "      <th>home_player_6</th>\n",
       "      <th>home_player_7</th>\n",
       "      <th>home_player_8</th>\n",
       "      <th>home_player_9</th>\n",
       "      <th>home_player_10</th>\n",
       "      <th>...</th>\n",
       "      <th>away_player_2</th>\n",
       "      <th>away_player_3</th>\n",
       "      <th>away_player_4</th>\n",
       "      <th>away_player_5</th>\n",
       "      <th>away_player_6</th>\n",
       "      <th>away_player_7</th>\n",
       "      <th>away_player_8</th>\n",
       "      <th>away_player_9</th>\n",
       "      <th>away_player_10</th>\n",
       "      <th>away_player_11</th>\n",
       "    </tr>\n",
       "  </thead>\n",
       "  <tbody>\n",
       "    <tr>\n",
       "      <th>0</th>\n",
       "      <td>30726.0</td>\n",
       "      <td>30362.0</td>\n",
       "      <td>30620.0</td>\n",
       "      <td>30865.0</td>\n",
       "      <td>32569.0</td>\n",
       "      <td>24148.0</td>\n",
       "      <td>34944.0</td>\n",
       "      <td>30373.0</td>\n",
       "      <td>24154.0</td>\n",
       "      <td>24157.0</td>\n",
       "      <td>...</td>\n",
       "      <td>25518.0</td>\n",
       "      <td>24228.0</td>\n",
       "      <td>30929.0</td>\n",
       "      <td>29581.0</td>\n",
       "      <td>38807.0</td>\n",
       "      <td>40565.0</td>\n",
       "      <td>30360.0</td>\n",
       "      <td>33852.0</td>\n",
       "      <td>34574.0</td>\n",
       "      <td>37799.0</td>\n",
       "    </tr>\n",
       "    <tr>\n",
       "      <th>1</th>\n",
       "      <td>23686.0</td>\n",
       "      <td>26111.0</td>\n",
       "      <td>38835.0</td>\n",
       "      <td>30986.0</td>\n",
       "      <td>31291.0</td>\n",
       "      <td>31013.0</td>\n",
       "      <td>30935.0</td>\n",
       "      <td>39297.0</td>\n",
       "      <td>26181.0</td>\n",
       "      <td>30960.0</td>\n",
       "      <td>...</td>\n",
       "      <td>36832.0</td>\n",
       "      <td>23115.0</td>\n",
       "      <td>37280.0</td>\n",
       "      <td>24728.0</td>\n",
       "      <td>24664.0</td>\n",
       "      <td>31088.0</td>\n",
       "      <td>23257.0</td>\n",
       "      <td>24171.0</td>\n",
       "      <td>25922.0</td>\n",
       "      <td>27267.0</td>\n",
       "    </tr>\n",
       "    <tr>\n",
       "      <th>2</th>\n",
       "      <td>32562.0</td>\n",
       "      <td>38836.0</td>\n",
       "      <td>24446.0</td>\n",
       "      <td>24408.0</td>\n",
       "      <td>36786.0</td>\n",
       "      <td>38802.0</td>\n",
       "      <td>24655.0</td>\n",
       "      <td>17866.0</td>\n",
       "      <td>30352.0</td>\n",
       "      <td>23927.0</td>\n",
       "      <td>...</td>\n",
       "      <td>37442.0</td>\n",
       "      <td>30617.0</td>\n",
       "      <td>24134.0</td>\n",
       "      <td>414792.0</td>\n",
       "      <td>37139.0</td>\n",
       "      <td>30618.0</td>\n",
       "      <td>40701.0</td>\n",
       "      <td>24800.0</td>\n",
       "      <td>24635.0</td>\n",
       "      <td>30853.0</td>\n",
       "    </tr>\n",
       "    <tr>\n",
       "      <th>3</th>\n",
       "      <td>36374.0</td>\n",
       "      <td>30966.0</td>\n",
       "      <td>23818.0</td>\n",
       "      <td>37277.0</td>\n",
       "      <td>30687.0</td>\n",
       "      <td>36394.0</td>\n",
       "      <td>37169.0</td>\n",
       "      <td>24223.0</td>\n",
       "      <td>24773.0</td>\n",
       "      <td>34543.0</td>\n",
       "      <td>...</td>\n",
       "      <td>34987.0</td>\n",
       "      <td>35472.0</td>\n",
       "      <td>111865.0</td>\n",
       "      <td>25005.0</td>\n",
       "      <td>35327.0</td>\n",
       "      <td>25150.0</td>\n",
       "      <td>97988.0</td>\n",
       "      <td>41877.0</td>\n",
       "      <td>127857.0</td>\n",
       "      <td>34466.0</td>\n",
       "    </tr>\n",
       "    <tr>\n",
       "      <th>4</th>\n",
       "      <td>30380.0</td>\n",
       "      <td>30357.0</td>\n",
       "      <td>24658.0</td>\n",
       "      <td>43280.0</td>\n",
       "      <td>23282.0</td>\n",
       "      <td>38609.0</td>\n",
       "      <td>24780.0</td>\n",
       "      <td>23782.0</td>\n",
       "      <td>23354.0</td>\n",
       "      <td>23264.0</td>\n",
       "      <td>...</td>\n",
       "      <td>46403.0</td>\n",
       "      <td>24208.0</td>\n",
       "      <td>23939.0</td>\n",
       "      <td>33963.0</td>\n",
       "      <td>47413.0</td>\n",
       "      <td>40198.0</td>\n",
       "      <td>42119.0</td>\n",
       "      <td>NaN</td>\n",
       "      <td>33633.0</td>\n",
       "      <td>107216.0</td>\n",
       "    </tr>\n",
       "  </tbody>\n",
       "</table>\n",
       "<p>5 rows × 22 columns</p>\n",
       "</div>"
      ],
      "text/plain": [
       "   home_player_1  home_player_2  home_player_3  home_player_4  home_player_5  \\\n",
       "0        30726.0        30362.0        30620.0        30865.0        32569.0   \n",
       "1        23686.0        26111.0        38835.0        30986.0        31291.0   \n",
       "2        32562.0        38836.0        24446.0        24408.0        36786.0   \n",
       "3        36374.0        30966.0        23818.0        37277.0        30687.0   \n",
       "4        30380.0        30357.0        24658.0        43280.0        23282.0   \n",
       "\n",
       "   home_player_6  home_player_7  home_player_8  home_player_9  home_player_10  \\\n",
       "0        24148.0        34944.0        30373.0        24154.0         24157.0   \n",
       "1        31013.0        30935.0        39297.0        26181.0         30960.0   \n",
       "2        38802.0        24655.0        17866.0        30352.0         23927.0   \n",
       "3        36394.0        37169.0        24223.0        24773.0         34543.0   \n",
       "4        38609.0        24780.0        23782.0        23354.0         23264.0   \n",
       "\n",
       "        ...        away_player_2  away_player_3  away_player_4  away_player_5  \\\n",
       "0       ...              25518.0        24228.0        30929.0        29581.0   \n",
       "1       ...              36832.0        23115.0        37280.0        24728.0   \n",
       "2       ...              37442.0        30617.0        24134.0       414792.0   \n",
       "3       ...              34987.0        35472.0       111865.0        25005.0   \n",
       "4       ...              46403.0        24208.0        23939.0        33963.0   \n",
       "\n",
       "   away_player_6  away_player_7  away_player_8  away_player_9  away_player_10  \\\n",
       "0        38807.0        40565.0        30360.0        33852.0         34574.0   \n",
       "1        24664.0        31088.0        23257.0        24171.0         25922.0   \n",
       "2        37139.0        30618.0        40701.0        24800.0         24635.0   \n",
       "3        35327.0        25150.0        97988.0        41877.0        127857.0   \n",
       "4        47413.0        40198.0        42119.0            NaN         33633.0   \n",
       "\n",
       "   away_player_11  \n",
       "0         37799.0  \n",
       "1         27267.0  \n",
       "2         30853.0  \n",
       "3         34466.0  \n",
       "4        107216.0  \n",
       "\n",
       "[5 rows x 22 columns]"
      ]
     },
     "execution_count": 8,
     "metadata": {},
     "output_type": "execute_result"
    }
   ],
   "source": [
    "junction.head()"
   ]
  },
  {
   "cell_type": "markdown",
   "metadata": {},
   "source": [
    "As you may notice, only the players dataframe contains the information we ultimately want it to have and is formatted properly. So let's start by taking a look at that matches table. It's pulled from the match table, so every row represents one match, which is precisely what we want. All it's missing is a match_id column and a column indicating who won. Let's start with that \"who won\" column. While the table can't yet give me a winner, it does have the score, and that’s close enough that I can make it into what I need with just one line of code: "
   ]
  },
  {
   "cell_type": "code",
   "execution_count": 9,
   "metadata": {},
   "outputs": [],
   "source": [
    "#determine if home team won the matches\n",
    "matches['home_win'] = [1 if \n",
    "                       matches.loc[match,'home_team_goal'] > matches.loc[match,'away_team_goal'] \n",
    "                       else 0 \n",
    "                       for match in range(len(matches))]"
   ]
  },
  {
   "cell_type": "markdown",
   "metadata": {},
   "source": [
    "This is called a “list comprehension,” and this is a pretty good way of explaining it: https://www.pythonforbeginners.com/basics/list-comprehensions-in-python. The key takeaway is that its basically a For Loop but a little bit quicker and much neater and optimized for making lists. Now that we have our column of interest I can lose the columns tracking each team's score. That means that all we're missing is a column with ID's for each match. For that we are going to cheat a bit: since each row represents a match, the row's position in the dataframe can be used as the match's unique identifier. Thus, we reset the index, which adds a column tracking each row's position, and use that as the match_id. Lastly, we rename the column headings into something a bit more descriptive."
   ]
  },
  {
   "cell_type": "code",
   "execution_count": 10,
   "metadata": {},
   "outputs": [],
   "source": [
    "#Select only useful columns and rename\n",
    "matches = matches.iloc[:,[0,3]].reset_index()\n",
    "matches.columns = ['match_id', 'date', 'home_win']"
   ]
  },
  {
   "cell_type": "code",
   "execution_count": 11,
   "metadata": {},
   "outputs": [
    {
     "data": {
      "text/html": [
       "<div>\n",
       "<style scoped>\n",
       "    .dataframe tbody tr th:only-of-type {\n",
       "        vertical-align: middle;\n",
       "    }\n",
       "\n",
       "    .dataframe tbody tr th {\n",
       "        vertical-align: top;\n",
       "    }\n",
       "\n",
       "    .dataframe thead th {\n",
       "        text-align: right;\n",
       "    }\n",
       "</style>\n",
       "<table border=\"1\" class=\"dataframe\">\n",
       "  <thead>\n",
       "    <tr style=\"text-align: right;\">\n",
       "      <th></th>\n",
       "      <th>match_id</th>\n",
       "      <th>date</th>\n",
       "      <th>home_win</th>\n",
       "    </tr>\n",
       "  </thead>\n",
       "  <tbody>\n",
       "    <tr>\n",
       "      <th>0</th>\n",
       "      <td>0</td>\n",
       "      <td>2008-08-17 00:00:00</td>\n",
       "      <td>0</td>\n",
       "    </tr>\n",
       "    <tr>\n",
       "      <th>1</th>\n",
       "      <td>1</td>\n",
       "      <td>2008-08-16 00:00:00</td>\n",
       "      <td>1</td>\n",
       "    </tr>\n",
       "    <tr>\n",
       "      <th>2</th>\n",
       "      <td>2</td>\n",
       "      <td>2008-08-16 00:00:00</td>\n",
       "      <td>0</td>\n",
       "    </tr>\n",
       "    <tr>\n",
       "      <th>3</th>\n",
       "      <td>3</td>\n",
       "      <td>2008-08-16 00:00:00</td>\n",
       "      <td>1</td>\n",
       "    </tr>\n",
       "    <tr>\n",
       "      <th>4</th>\n",
       "      <td>4</td>\n",
       "      <td>2008-08-17 00:00:00</td>\n",
       "      <td>1</td>\n",
       "    </tr>\n",
       "  </tbody>\n",
       "</table>\n",
       "</div>"
      ],
      "text/plain": [
       "   match_id                 date  home_win\n",
       "0         0  2008-08-17 00:00:00         0\n",
       "1         1  2008-08-16 00:00:00         1\n",
       "2         2  2008-08-16 00:00:00         0\n",
       "3         3  2008-08-16 00:00:00         1\n",
       "4         4  2008-08-17 00:00:00         1"
      ]
     },
     "execution_count": 11,
     "metadata": {},
     "output_type": "execute_result"
    }
   ],
   "source": [
    "matches_final = matches\n",
    "matches.head()"
   ]
  },
  {
   "cell_type": "markdown",
   "metadata": {},
   "source": [
    "And what do you know, our matches table is now ready to rumble. That wasn't too bad, now was it? Well, it's about to get a bit worse; time to work on the junction table. Here's a quick reminder of what that looks like"
   ]
  },
  {
   "cell_type": "code",
   "execution_count": 12,
   "metadata": {},
   "outputs": [
    {
     "data": {
      "text/html": [
       "<div>\n",
       "<style scoped>\n",
       "    .dataframe tbody tr th:only-of-type {\n",
       "        vertical-align: middle;\n",
       "    }\n",
       "\n",
       "    .dataframe tbody tr th {\n",
       "        vertical-align: top;\n",
       "    }\n",
       "\n",
       "    .dataframe thead th {\n",
       "        text-align: right;\n",
       "    }\n",
       "</style>\n",
       "<table border=\"1\" class=\"dataframe\">\n",
       "  <thead>\n",
       "    <tr style=\"text-align: right;\">\n",
       "      <th></th>\n",
       "      <th>home_player_1</th>\n",
       "      <th>home_player_2</th>\n",
       "      <th>home_player_3</th>\n",
       "      <th>home_player_4</th>\n",
       "      <th>home_player_5</th>\n",
       "      <th>home_player_6</th>\n",
       "      <th>home_player_7</th>\n",
       "      <th>home_player_8</th>\n",
       "      <th>home_player_9</th>\n",
       "      <th>home_player_10</th>\n",
       "      <th>...</th>\n",
       "      <th>away_player_2</th>\n",
       "      <th>away_player_3</th>\n",
       "      <th>away_player_4</th>\n",
       "      <th>away_player_5</th>\n",
       "      <th>away_player_6</th>\n",
       "      <th>away_player_7</th>\n",
       "      <th>away_player_8</th>\n",
       "      <th>away_player_9</th>\n",
       "      <th>away_player_10</th>\n",
       "      <th>away_player_11</th>\n",
       "    </tr>\n",
       "  </thead>\n",
       "  <tbody>\n",
       "    <tr>\n",
       "      <th>0</th>\n",
       "      <td>30726.0</td>\n",
       "      <td>30362.0</td>\n",
       "      <td>30620.0</td>\n",
       "      <td>30865.0</td>\n",
       "      <td>32569.0</td>\n",
       "      <td>24148.0</td>\n",
       "      <td>34944.0</td>\n",
       "      <td>30373.0</td>\n",
       "      <td>24154.0</td>\n",
       "      <td>24157.0</td>\n",
       "      <td>...</td>\n",
       "      <td>25518.0</td>\n",
       "      <td>24228.0</td>\n",
       "      <td>30929.0</td>\n",
       "      <td>29581.0</td>\n",
       "      <td>38807.0</td>\n",
       "      <td>40565.0</td>\n",
       "      <td>30360.0</td>\n",
       "      <td>33852.0</td>\n",
       "      <td>34574.0</td>\n",
       "      <td>37799.0</td>\n",
       "    </tr>\n",
       "    <tr>\n",
       "      <th>1</th>\n",
       "      <td>23686.0</td>\n",
       "      <td>26111.0</td>\n",
       "      <td>38835.0</td>\n",
       "      <td>30986.0</td>\n",
       "      <td>31291.0</td>\n",
       "      <td>31013.0</td>\n",
       "      <td>30935.0</td>\n",
       "      <td>39297.0</td>\n",
       "      <td>26181.0</td>\n",
       "      <td>30960.0</td>\n",
       "      <td>...</td>\n",
       "      <td>36832.0</td>\n",
       "      <td>23115.0</td>\n",
       "      <td>37280.0</td>\n",
       "      <td>24728.0</td>\n",
       "      <td>24664.0</td>\n",
       "      <td>31088.0</td>\n",
       "      <td>23257.0</td>\n",
       "      <td>24171.0</td>\n",
       "      <td>25922.0</td>\n",
       "      <td>27267.0</td>\n",
       "    </tr>\n",
       "    <tr>\n",
       "      <th>2</th>\n",
       "      <td>32562.0</td>\n",
       "      <td>38836.0</td>\n",
       "      <td>24446.0</td>\n",
       "      <td>24408.0</td>\n",
       "      <td>36786.0</td>\n",
       "      <td>38802.0</td>\n",
       "      <td>24655.0</td>\n",
       "      <td>17866.0</td>\n",
       "      <td>30352.0</td>\n",
       "      <td>23927.0</td>\n",
       "      <td>...</td>\n",
       "      <td>37442.0</td>\n",
       "      <td>30617.0</td>\n",
       "      <td>24134.0</td>\n",
       "      <td>414792.0</td>\n",
       "      <td>37139.0</td>\n",
       "      <td>30618.0</td>\n",
       "      <td>40701.0</td>\n",
       "      <td>24800.0</td>\n",
       "      <td>24635.0</td>\n",
       "      <td>30853.0</td>\n",
       "    </tr>\n",
       "    <tr>\n",
       "      <th>3</th>\n",
       "      <td>36374.0</td>\n",
       "      <td>30966.0</td>\n",
       "      <td>23818.0</td>\n",
       "      <td>37277.0</td>\n",
       "      <td>30687.0</td>\n",
       "      <td>36394.0</td>\n",
       "      <td>37169.0</td>\n",
       "      <td>24223.0</td>\n",
       "      <td>24773.0</td>\n",
       "      <td>34543.0</td>\n",
       "      <td>...</td>\n",
       "      <td>34987.0</td>\n",
       "      <td>35472.0</td>\n",
       "      <td>111865.0</td>\n",
       "      <td>25005.0</td>\n",
       "      <td>35327.0</td>\n",
       "      <td>25150.0</td>\n",
       "      <td>97988.0</td>\n",
       "      <td>41877.0</td>\n",
       "      <td>127857.0</td>\n",
       "      <td>34466.0</td>\n",
       "    </tr>\n",
       "    <tr>\n",
       "      <th>4</th>\n",
       "      <td>30380.0</td>\n",
       "      <td>30357.0</td>\n",
       "      <td>24658.0</td>\n",
       "      <td>43280.0</td>\n",
       "      <td>23282.0</td>\n",
       "      <td>38609.0</td>\n",
       "      <td>24780.0</td>\n",
       "      <td>23782.0</td>\n",
       "      <td>23354.0</td>\n",
       "      <td>23264.0</td>\n",
       "      <td>...</td>\n",
       "      <td>46403.0</td>\n",
       "      <td>24208.0</td>\n",
       "      <td>23939.0</td>\n",
       "      <td>33963.0</td>\n",
       "      <td>47413.0</td>\n",
       "      <td>40198.0</td>\n",
       "      <td>42119.0</td>\n",
       "      <td>NaN</td>\n",
       "      <td>33633.0</td>\n",
       "      <td>107216.0</td>\n",
       "    </tr>\n",
       "  </tbody>\n",
       "</table>\n",
       "<p>5 rows × 22 columns</p>\n",
       "</div>"
      ],
      "text/plain": [
       "   home_player_1  home_player_2  home_player_3  home_player_4  home_player_5  \\\n",
       "0        30726.0        30362.0        30620.0        30865.0        32569.0   \n",
       "1        23686.0        26111.0        38835.0        30986.0        31291.0   \n",
       "2        32562.0        38836.0        24446.0        24408.0        36786.0   \n",
       "3        36374.0        30966.0        23818.0        37277.0        30687.0   \n",
       "4        30380.0        30357.0        24658.0        43280.0        23282.0   \n",
       "\n",
       "   home_player_6  home_player_7  home_player_8  home_player_9  home_player_10  \\\n",
       "0        24148.0        34944.0        30373.0        24154.0         24157.0   \n",
       "1        31013.0        30935.0        39297.0        26181.0         30960.0   \n",
       "2        38802.0        24655.0        17866.0        30352.0         23927.0   \n",
       "3        36394.0        37169.0        24223.0        24773.0         34543.0   \n",
       "4        38609.0        24780.0        23782.0        23354.0         23264.0   \n",
       "\n",
       "        ...        away_player_2  away_player_3  away_player_4  away_player_5  \\\n",
       "0       ...              25518.0        24228.0        30929.0        29581.0   \n",
       "1       ...              36832.0        23115.0        37280.0        24728.0   \n",
       "2       ...              37442.0        30617.0        24134.0       414792.0   \n",
       "3       ...              34987.0        35472.0       111865.0        25005.0   \n",
       "4       ...              46403.0        24208.0        23939.0        33963.0   \n",
       "\n",
       "   away_player_6  away_player_7  away_player_8  away_player_9  away_player_10  \\\n",
       "0        38807.0        40565.0        30360.0        33852.0         34574.0   \n",
       "1        24664.0        31088.0        23257.0        24171.0         25922.0   \n",
       "2        37139.0        30618.0        40701.0        24800.0         24635.0   \n",
       "3        35327.0        25150.0        97988.0        41877.0        127857.0   \n",
       "4        47413.0        40198.0        42119.0            NaN         33633.0   \n",
       "\n",
       "   away_player_11  \n",
       "0         37799.0  \n",
       "1         27267.0  \n",
       "2         30853.0  \n",
       "3         34466.0  \n",
       "4        107216.0  \n",
       "\n",
       "[5 rows x 22 columns]"
      ]
     },
     "execution_count": 12,
     "metadata": {},
     "output_type": "execute_result"
    }
   ],
   "source": [
    "junction.head()"
   ]
  },
  {
   "cell_type": "markdown",
   "metadata": {},
   "source": [
    "And what we want is:"
   ]
  },
  {
   "cell_type": "code",
   "execution_count": 33,
   "metadata": {},
   "outputs": [
    {
     "data": {
      "text/html": [
       "<div>\n",
       "<style scoped>\n",
       "    .dataframe tbody tr th:only-of-type {\n",
       "        vertical-align: middle;\n",
       "    }\n",
       "\n",
       "    .dataframe tbody tr th {\n",
       "        vertical-align: top;\n",
       "    }\n",
       "\n",
       "    .dataframe thead th {\n",
       "        text-align: right;\n",
       "    }\n",
       "</style>\n",
       "<table border=\"1\" class=\"dataframe\">\n",
       "  <thead>\n",
       "    <tr style=\"text-align: right;\">\n",
       "      <th></th>\n",
       "      <th>match_id</th>\n",
       "      <th>team</th>\n",
       "      <th>player_api_id</th>\n",
       "    </tr>\n",
       "  </thead>\n",
       "  <tbody>\n",
       "    <tr>\n",
       "      <th>0</th>\n",
       "      <td>0</td>\n",
       "      <td>home</td>\n",
       "      <td>30726.0</td>\n",
       "    </tr>\n",
       "    <tr>\n",
       "      <th>1</th>\n",
       "      <td>0</td>\n",
       "      <td>home</td>\n",
       "      <td>30362.0</td>\n",
       "    </tr>\n",
       "    <tr>\n",
       "      <th>2</th>\n",
       "      <td>0</td>\n",
       "      <td>home</td>\n",
       "      <td>30620.0</td>\n",
       "    </tr>\n",
       "    <tr>\n",
       "      <th>3</th>\n",
       "      <td>0</td>\n",
       "      <td>home</td>\n",
       "      <td>30865.0</td>\n",
       "    </tr>\n",
       "    <tr>\n",
       "      <th>4</th>\n",
       "      <td>0</td>\n",
       "      <td>home</td>\n",
       "      <td>32569.0</td>\n",
       "    </tr>\n",
       "  </tbody>\n",
       "</table>\n",
       "</div>"
      ],
      "text/plain": [
       "   match_id  team  player_api_id\n",
       "0         0  home        30726.0\n",
       "1         0  home        30362.0\n",
       "2         0  home        30620.0\n",
       "3         0  home        30865.0\n",
       "4         0  home        32569.0"
      ]
     },
     "execution_count": 33,
     "metadata": {},
     "output_type": "execute_result"
    }
   ],
   "source": [
    "junction_final.head()"
   ]
  },
  {
   "cell_type": "markdown",
   "metadata": {},
   "source": [
    "They look really different, don't they? When you think about it though, all the information we need is right there. The team of each player is in the header for each column, and their ID is listed as the dataframe's values. We just need to rearrange it to display properly. Instead of each row giving information about a match, we want each row to represent a *match-player pairing*. That linkage between a player and a match -- that's what makes it a junction table!"
   ]
  },
  {
   "cell_type": "markdown",
   "metadata": {},
   "source": [
    "The million-dollar question is then: how do we change the meaning of each row? The answer, in a word, is .stack(). What this does is create a *multi-indexed object*, which is explained in a suprisingly accessible and practical manner here: https://jakevdp.github.io/PythonDataScienceHandbook/03.05-hierarchical-indexing.html. While that article explains it better than I ever could, let’s see if I can summarize. The idea is that what was once the index (match_id) is now the *outer level* of our new object’s index. The *inner level* relates to what column the data was originally in. Now each row is only described uniquely by referencing both the outer and inner levels of the index, or in English, a match-player pair! Here's what the dataframe looks like after tacking on a .stack()"
   ]
  },
  {
   "cell_type": "code",
   "execution_count": 14,
   "metadata": {},
   "outputs": [
    {
     "data": {
      "text/plain": [
       "0  home_player_1    30726.0\n",
       "   home_player_2    30362.0\n",
       "   home_player_3    30620.0\n",
       "   home_player_4    30865.0\n",
       "   home_player_5    32569.0\n",
       "dtype: float64"
      ]
     },
     "execution_count": 14,
     "metadata": {},
     "output_type": "execute_result"
    }
   ],
   "source": [
    "junction = junction.stack()\n",
    "junction.head()"
   ]
  },
  {
   "cell_type": "markdown",
   "metadata": {},
   "source": [
    "Now that we have the junction table mostly set up, there's just a little housekeeping that needs to be done. The object above is a *multi-indexed series* but it is much simpler to work with a *single-indexed dataframe*. These are effectively the same thing, and we can make this transition simply by resetting the index:"
   ]
  },
  {
   "cell_type": "code",
   "execution_count": 15,
   "metadata": {},
   "outputs": [
    {
     "data": {
      "text/html": [
       "<div>\n",
       "<style scoped>\n",
       "    .dataframe tbody tr th:only-of-type {\n",
       "        vertical-align: middle;\n",
       "    }\n",
       "\n",
       "    .dataframe tbody tr th {\n",
       "        vertical-align: top;\n",
       "    }\n",
       "\n",
       "    .dataframe thead th {\n",
       "        text-align: right;\n",
       "    }\n",
       "</style>\n",
       "<table border=\"1\" class=\"dataframe\">\n",
       "  <thead>\n",
       "    <tr style=\"text-align: right;\">\n",
       "      <th></th>\n",
       "      <th>level_0</th>\n",
       "      <th>level_1</th>\n",
       "      <th>0</th>\n",
       "    </tr>\n",
       "  </thead>\n",
       "  <tbody>\n",
       "    <tr>\n",
       "      <th>0</th>\n",
       "      <td>0</td>\n",
       "      <td>home_player_1</td>\n",
       "      <td>30726.0</td>\n",
       "    </tr>\n",
       "    <tr>\n",
       "      <th>1</th>\n",
       "      <td>0</td>\n",
       "      <td>home_player_2</td>\n",
       "      <td>30362.0</td>\n",
       "    </tr>\n",
       "    <tr>\n",
       "      <th>2</th>\n",
       "      <td>0</td>\n",
       "      <td>home_player_3</td>\n",
       "      <td>30620.0</td>\n",
       "    </tr>\n",
       "    <tr>\n",
       "      <th>3</th>\n",
       "      <td>0</td>\n",
       "      <td>home_player_4</td>\n",
       "      <td>30865.0</td>\n",
       "    </tr>\n",
       "    <tr>\n",
       "      <th>4</th>\n",
       "      <td>0</td>\n",
       "      <td>home_player_5</td>\n",
       "      <td>32569.0</td>\n",
       "    </tr>\n",
       "  </tbody>\n",
       "</table>\n",
       "</div>"
      ],
      "text/plain": [
       "   level_0        level_1        0\n",
       "0        0  home_player_1  30726.0\n",
       "1        0  home_player_2  30362.0\n",
       "2        0  home_player_3  30620.0\n",
       "3        0  home_player_4  30865.0\n",
       "4        0  home_player_5  32569.0"
      ]
     },
     "execution_count": 15,
     "metadata": {},
     "output_type": "execute_result"
    }
   ],
   "source": [
    "junction = junction.reset_index()\n",
    "junction.head()"
   ]
  },
  {
   "cell_type": "markdown",
   "metadata": {},
   "source": [
    "Next, I use the code below to (cleverly) transform what was once column headings into team name by only keeping their first four letters. Then I rename the columns into something that makes sense."
   ]
  },
  {
   "cell_type": "code",
   "execution_count": 16,
   "metadata": {},
   "outputs": [
    {
     "data": {
      "text/html": [
       "<div>\n",
       "<style scoped>\n",
       "    .dataframe tbody tr th:only-of-type {\n",
       "        vertical-align: middle;\n",
       "    }\n",
       "\n",
       "    .dataframe tbody tr th {\n",
       "        vertical-align: top;\n",
       "    }\n",
       "\n",
       "    .dataframe thead th {\n",
       "        text-align: right;\n",
       "    }\n",
       "</style>\n",
       "<table border=\"1\" class=\"dataframe\">\n",
       "  <thead>\n",
       "    <tr style=\"text-align: right;\">\n",
       "      <th></th>\n",
       "      <th>match_id</th>\n",
       "      <th>team</th>\n",
       "      <th>player_api_id</th>\n",
       "    </tr>\n",
       "  </thead>\n",
       "  <tbody>\n",
       "    <tr>\n",
       "      <th>0</th>\n",
       "      <td>0</td>\n",
       "      <td>home</td>\n",
       "      <td>30726.0</td>\n",
       "    </tr>\n",
       "    <tr>\n",
       "      <th>1</th>\n",
       "      <td>0</td>\n",
       "      <td>home</td>\n",
       "      <td>30362.0</td>\n",
       "    </tr>\n",
       "    <tr>\n",
       "      <th>2</th>\n",
       "      <td>0</td>\n",
       "      <td>home</td>\n",
       "      <td>30620.0</td>\n",
       "    </tr>\n",
       "    <tr>\n",
       "      <th>3</th>\n",
       "      <td>0</td>\n",
       "      <td>home</td>\n",
       "      <td>30865.0</td>\n",
       "    </tr>\n",
       "    <tr>\n",
       "      <th>4</th>\n",
       "      <td>0</td>\n",
       "      <td>home</td>\n",
       "      <td>32569.0</td>\n",
       "    </tr>\n",
       "  </tbody>\n",
       "</table>\n",
       "</div>"
      ],
      "text/plain": [
       "   match_id  team  player_api_id\n",
       "0         0  home        30726.0\n",
       "1         0  home        30362.0\n",
       "2         0  home        30620.0\n",
       "3         0  home        30865.0\n",
       "4         0  home        32569.0"
      ]
     },
     "execution_count": 16,
     "metadata": {},
     "output_type": "execute_result"
    }
   ],
   "source": [
    "junction['level_1'] = [team[0:4] for team in junction.level_1]\n",
    "junction.columns = ['match_id', 'team', 'player_api_id']\n",
    "junction_final = junction\n",
    "junction.head()"
   ]
  },
  {
   "cell_type": "markdown",
   "metadata": {},
   "source": [
    "And now, against all odds and despite the negative energy thrust upon us by the haters telling us it was impossible, we have created a set of normalized databases. It is time to get into the fun stuff. And by fun, I mean SQL. And by SQL, I mean more Pandas functions, because as you know by now, WE ARE HERE TO LEARN PANDAS (but really you can think of it all as SQL because they are almost perfectly analogous) (and that’s what I did as I was coding it).  "
   ]
  },
  {
   "cell_type": "code",
   "execution_count": 17,
   "metadata": {},
   "outputs": [],
   "source": [
    "junction_matches_players = junction.merge(matches).merge(players, on = 'player_api_id')\n",
    "jmp = junction_matches_players"
   ]
  },
  {
   "cell_type": "markdown",
   "metadata": {},
   "source": [
    "So here we merge (READ: “join”) the three tables together into one big happy dataframe (I also rename it for convenience). The table itself is a mess. It has 1.7 million rows and a few thousand nulls in the overall rating column (meaning that a player listed in a match never received a rating in FIFA for some reason). There are two main levels of redundancy: First, for every match, there are 22 players that each get their own row. Then, for each match-player pair, there are several rows (one for each time that player was rated by FIFA). The first level is one we want to keep, because we want information on every player in the match, but the second is one we will get rid of, because we only want the most relevant rating for each player in a match. "
   ]
  },
  {
   "cell_type": "markdown",
   "metadata": {},
   "source": [
    "Just to provide a little structure, I’m first going to explain what I want to do, and then get into the nitty [gritty](https://assets3.thrillist.com/v1/image/2787249/size/sk-2017_04_featured_listing_mobile.jpg) about how I actually do it. So lets start at the top: What is our overarching goal? Well, we want to know how much better FIFA says one team is than the other. So for each team in a given match, I need the average rating of all its players. Since players have several FIFA ratings (at least one a year), the relevant rating is the one closest to when the match happened, but not after it took place (because if we ran this model on any real data, we wouldn’t know ratings that haven’t been made yet). Once we have the average rating of each team in each match, we want to know how it stacks up to its opponent. Got it? Hope so, because here’s how we do it."
   ]
  },
  {
   "cell_type": "markdown",
   "metadata": {},
   "source": [
    "So, first, because we're going to be performing operations on the below dates, Python needs to know that they are actually dates and not just strings, so we'll make that conversion. Then we are going to create a new column that tells us how far apart the dates are from one another."
   ]
  },
  {
   "cell_type": "code",
   "execution_count": 18,
   "metadata": {},
   "outputs": [],
   "source": [
    "jmp['date_x'] = pd.to_datetime(jmp['date_x'])\n",
    "jmp['date_y'] = pd.to_datetime(jmp['date_y'])\n",
    "jmp['date_diff'] = jmp['date_x'] - jmp['date_y']"
   ]
  },
  {
   "cell_type": "markdown",
   "metadata": {},
   "source": [
    "Date_x is the date when the match took place, and Date_y is the date when the player was rated. Remember, if a player was rated by FIFA 5 times, then there are 5 copies of the match-player pair for every match that he played in. We are going to want to only keep the one that is most relevant. To aid us in that quest, we start with this code:  "
   ]
  },
  {
   "cell_type": "code",
   "execution_count": 19,
   "metadata": {},
   "outputs": [],
   "source": [
    "jmp = jmp[(jmp['date_diff'] > timedelta(0))].sort_values('date_diff', ascending = True)"
   ]
  },
  {
   "cell_type": "markdown",
   "metadata": {},
   "source": [
    "This line of code does two thing. First, it selects only the rows where the rating date was before the match took place. Second, it sorts on date_diff, and the reason for this will become apparent soon enough. Then we get into this doozy:"
   ]
  },
  {
   "cell_type": "code",
   "execution_count": 20,
   "metadata": {},
   "outputs": [],
   "source": [
    "team_ratings = jmp.groupby(['match_id','player_api_id']).first() \\\n",
    "                  .groupby(['match_id', 'team'])['overall_rating'].mean().reset_index(1)"
   ]
  },
  {
   "cell_type": "markdown",
   "metadata": {},
   "source": [
    "If you’re familiar with SQL, interpretation will be straightforward enough. For the rest of you, let’s break it into chuncks. First, we have:"
   ]
  },
  {
   "cell_type": "code",
   "execution_count": 21,
   "metadata": {},
   "outputs": [],
   "source": [
    "team_ratings_first = jmp.groupby(['match_id','player_api_id'])"
   ]
  },
  {
   "cell_type": "markdown",
   "metadata": {},
   "source": [
    "What this does is it allows us to take our table and separate it into several groups, each of which is a bunch of rows. Each group shares a match_id and a player_id. What this means practically is that each group is the same except for the player’s rating – each row in a group indicates a different date on which they were rated by FIFA. The only row that is relevant to us is the one with the lowest positive date_diff. Because we were clever enough to eliminate negatives and sort on this attribute, that one will always be first, and so we can add this into our chain of commands:"
   ]
  },
  {
   "cell_type": "code",
   "execution_count": 22,
   "metadata": {},
   "outputs": [],
   "source": [
    "team_ratings_second = team_ratings_first.first()"
   ]
  },
  {
   "cell_type": "markdown",
   "metadata": {},
   "source": [
    "Next on our obnoxiously long line of code is another groupby statement:"
   ]
  },
  {
   "cell_type": "code",
   "execution_count": 23,
   "metadata": {},
   "outputs": [],
   "source": [
    "team_ratings_third = team_ratings_second.groupby(['match_id', 'team'])['overall_rating']"
   ]
  },
  {
   "cell_type": "markdown",
   "metadata": {},
   "source": [
    "This time, instead of each row in a group being differentiated by a player’s overall rating, it's differentiated by different players on the same team for a given match. This is because each group shares a match_id (meaning we’re talking about just one match) and a “team” designator (meaning they are all on the same team). Since we now have just one row for each match-player pair, that means that if two rows share a team and a match id, they differ in their player_id. So now we have established that each group above refers to the different players on one team in a specific match."
   ]
  },
  {
   "cell_type": "markdown",
   "metadata": {},
   "source": [
    "What we want to know is the *average* rating of the players on a given team on a given match. So, we simply take the overall rating and aggregate them using the mean function. So instead of, for each match-team pair, having a bunch of rows referring to each player, we now have just one row, referring to the *average rating of the players on that team*. And it looks a little something like this:"
   ]
  },
  {
   "cell_type": "code",
   "execution_count": 24,
   "metadata": {},
   "outputs": [
    {
     "data": {
      "text/plain": [
       "match_id  team\n",
       "0         away    75.272727\n",
       "          home    82.454545\n",
       "1         away    71.181818\n",
       "          home    78.000000\n",
       "2         away    79.909091\n",
       "Name: overall_rating, dtype: float64"
      ]
     },
     "execution_count": 24,
     "metadata": {},
     "output_type": "execute_result"
    }
   ],
   "source": [
    "team_ratings_fourth = team_ratings_third.mean()\n",
    "team_ratings_fourth.head()"
   ]
  },
  {
   "cell_type": "markdown",
   "metadata": {},
   "source": [
    "Like we've seen once before, this is a multi-indexed series. And also just like before, they are still annoying to work with, so we are going to reset the index to transform it a single-indexed dataframe. However, instead of resetting the index by adding a column counting the rows, this time I'm comfortable leaving match_id as the dataframe's index, so we can just reset the the multi-indexed series' *inner layer*."
   ]
  },
  {
   "cell_type": "code",
   "execution_count": 25,
   "metadata": {},
   "outputs": [
    {
     "data": {
      "text/html": [
       "<div>\n",
       "<style scoped>\n",
       "    .dataframe tbody tr th:only-of-type {\n",
       "        vertical-align: middle;\n",
       "    }\n",
       "\n",
       "    .dataframe tbody tr th {\n",
       "        vertical-align: top;\n",
       "    }\n",
       "\n",
       "    .dataframe thead th {\n",
       "        text-align: right;\n",
       "    }\n",
       "</style>\n",
       "<table border=\"1\" class=\"dataframe\">\n",
       "  <thead>\n",
       "    <tr style=\"text-align: right;\">\n",
       "      <th></th>\n",
       "      <th>team</th>\n",
       "      <th>overall_rating</th>\n",
       "    </tr>\n",
       "    <tr>\n",
       "      <th>match_id</th>\n",
       "      <th></th>\n",
       "      <th></th>\n",
       "    </tr>\n",
       "  </thead>\n",
       "  <tbody>\n",
       "    <tr>\n",
       "      <th>0</th>\n",
       "      <td>away</td>\n",
       "      <td>75.272727</td>\n",
       "    </tr>\n",
       "    <tr>\n",
       "      <th>0</th>\n",
       "      <td>home</td>\n",
       "      <td>82.454545</td>\n",
       "    </tr>\n",
       "    <tr>\n",
       "      <th>1</th>\n",
       "      <td>away</td>\n",
       "      <td>71.181818</td>\n",
       "    </tr>\n",
       "    <tr>\n",
       "      <th>1</th>\n",
       "      <td>home</td>\n",
       "      <td>78.000000</td>\n",
       "    </tr>\n",
       "    <tr>\n",
       "      <th>2</th>\n",
       "      <td>away</td>\n",
       "      <td>79.909091</td>\n",
       "    </tr>\n",
       "  </tbody>\n",
       "</table>\n",
       "</div>"
      ],
      "text/plain": [
       "          team  overall_rating\n",
       "match_id                      \n",
       "0         away       75.272727\n",
       "0         home       82.454545\n",
       "1         away       71.181818\n",
       "1         home       78.000000\n",
       "2         away       79.909091"
      ]
     },
     "execution_count": 25,
     "metadata": {},
     "output_type": "execute_result"
    }
   ],
   "source": [
    "team_ratings_final = team_ratings_fourth.reset_index(1)\n",
    "team_ratings_final.head()"
   ]
  },
  {
   "cell_type": "markdown",
   "metadata": {},
   "source": [
    "And now, like magic, we have fully interpreted that ungodly line of code. But wait! We have another ugly line! Luckily, this ones not quite as bad:"
   ]
  },
  {
   "cell_type": "code",
   "execution_count": 26,
   "metadata": {},
   "outputs": [],
   "source": [
    "home_differentials = team_ratings['overall_rating'].diff().iloc[1::2].reset_index()"
   ]
  },
  {
   "cell_type": "markdown",
   "metadata": {},
   "source": [
    "We now have the overall rating for the home and away teams in a given match, but we want to know how much better (or worse) the home team is than the away. So, we select the overall_rating column and apply this .diff() function. What this does is tell us the value of how much greater each row is than the preceeding row. It gives us a table like this: "
   ]
  },
  {
   "cell_type": "code",
   "execution_count": 27,
   "metadata": {},
   "outputs": [
    {
     "data": {
      "text/plain": [
       "match_id\n",
       "0          NaN\n",
       "0     7.181818\n",
       "1   -11.272727\n",
       "1     6.818182\n",
       "2     1.909091\n",
       "Name: overall_rating, dtype: float64"
      ]
     },
     "execution_count": 27,
     "metadata": {},
     "output_type": "execute_result"
    }
   ],
   "source": [
    "home_differentials_first = team_ratings['overall_rating'].diff()\n",
    "home_differentials_first.head()"
   ]
  },
  {
   "cell_type": "markdown",
   "metadata": {},
   "source": [
    "You’ll notice that there’s a lot of meaningless information in that table; the rating differential between the second and third rows, for example, isn’t of any value. Who cares how two teams compare if they didn't play against each other? So, the next part of the code selects every other row, which is precisely one from each match. Then we reset the index and go on our way. "
   ]
  },
  {
   "cell_type": "code",
   "execution_count": 28,
   "metadata": {},
   "outputs": [],
   "source": [
    "home_differentials_final = home_differentials_first.iloc[1::2].reset_index()"
   ]
  },
  {
   "cell_type": "markdown",
   "metadata": {},
   "source": [
    "Let’s regroup. We now have, for every match, how much better (or worse) the home team is than the away team stored in home_differentials. We also have, for every match, whether or not the home team won, stored in matches[home_win]. That’s all we need! We can now use home_differentials as our independent variable, matches[home_win] as our target variable, and use logistic regression to determine the probability that a home team wins based on its rating differential!"
   ]
  },
  {
   "cell_type": "markdown",
   "metadata": {},
   "source": [
    "Below I'm going to post code on a very basic way to do that. But I'm not going to explain it, because as both you and I intimately know, this post has gone on way too long already. I just figured after all this effort you'd want some sort of reward, and I know of no better reward than getting to read the shoddy results of a naive predictive model. <br> <br>\n",
    "Before that, however, I have more words, because why not. If you were able to follow along with this (blog post? essay? Google Scholar search result?) then you now have a basic familiarity with Python programming (specifically within the Pandas library), runtime optimization, database normalization, and some best practices for preparing data. Assuming you didn't know those things coming in, then that's pretty amazing! Regardless, I hope this was a least a little insightful for anyone I guilt into reading this, because I learned a lot while making it. Here's to waiting with bated breath until I (maybe) put out that data science post. "
   ]
  },
  {
   "cell_type": "code",
   "execution_count": 29,
   "metadata": {},
   "outputs": [
    {
     "name": "stdout",
     "output_type": "stream",
     "text": [
      "             precision    recall  f1-score   support\n",
      "\n",
      "      False       0.71      0.75      0.73       337\n",
      "       True       0.67      0.62      0.65       271\n",
      "\n",
      "avg / total       0.69      0.69      0.69       608\n",
      "\n"
     ]
    },
    {
     "data": {
      "text/plain": [
       "<matplotlib.collections.PathCollection at 0x1ff873eb128>"
      ]
     },
     "execution_count": 29,
     "metadata": {},
     "output_type": "execute_result"
    },
    {
     "data": {
      "image/png": "[encoded data removed]",
      "text/plain": [
       "<Figure size 432x288 with 1 Axes>"
      ]
     },
     "metadata": {},
     "output_type": "display_data"
    }
   ],
   "source": [
    "#lets start some modeling\n",
    "home_differentials['intercept'] = 1 #why do i need to do this?\n",
    "xData = np.array(home_differentials[['overall_rating', 'intercept']])\n",
    "yData = (matches['home_win'] == 1)\n",
    "\n",
    "#Split into test/train sets:\n",
    "X_train, X_test, y_train, y_test = train_test_split(xData, yData, test_size = .2)\n",
    "\n",
    "#make the sklearn model\n",
    "logreg = LogisticRegression()\n",
    "logreg.fit(X_train, y_train)\n",
    "y_pred = logreg.predict(X_test)\n",
    "\n",
    "#evaluate the model's performance\n",
    "logreg.score(X_train, y_train)\n",
    "logreg.score(X_test, y_test)\n",
    "confusion_matrix(y_test, y_pred)\n",
    "print(classification_report(y_test, y_pred))\n",
    "\n",
    "#graph the S curve\n",
    "y_pred_prob = logreg.predict_proba(X_test)[:,1]\n",
    "X_test = pd.DataFrame(X_test) #I only know how to work with DF's\n",
    "plt.scatter(X_test[0],y_pred_prob)"
   ]
  }
 ],
 "metadata": {
  "kernelspec": {
   "display_name": "Python 3",
   "language": "python",
   "name": "python3"
  },
  "language_info": {
   "codemirror_mode": {
    "name": "ipython",
    "version": 3
   },
   "file_extension": ".py",
   "mimetype": "text/x-python",
   "name": "python",
   "nbconvert_exporter": "python",
   "pygments_lexer": "ipython3",
   "version": "3.6.5"
  }
 },
 "nbformat": 4,
 "nbformat_minor": 2
}
